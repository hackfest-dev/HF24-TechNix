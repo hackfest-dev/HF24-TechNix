{
  "nbformat": 4,
  "nbformat_minor": 0,
  "metadata": {
    "colab": {
      "provenance": []
    },
    "kernelspec": {
      "name": "python3",
      "display_name": "Python 3"
    },
    "language_info": {
      "name": "python"
    }
  },
  "cells": [
    {
      "cell_type": "code",
      "execution_count": 1,
      "metadata": {
        "id": "G-V5R7mHdBq9"
      },
      "outputs": [],
      "source": [
        "import csv"
      ]
    },
    {
      "cell_type": "code",
      "source": [
        "from google.colab import drive\n",
        "drive.mount('/content/drive')"
      ],
      "metadata": {
        "colab": {
          "base_uri": "https://localhost:8080/"
        },
        "id": "941pE_8yfSrH",
        "outputId": "542dbdff-3ce0-4525-b2e2-6299825ecb4d"
      },
      "execution_count": 10,
      "outputs": [
        {
          "output_type": "stream",
          "name": "stdout",
          "text": [
            "Mounted at /content/drive\n"
          ]
        }
      ]
    },
    {
      "cell_type": "code",
      "source": [],
      "metadata": {
        "id": "RdcJ8Tx5ff9j"
      },
      "execution_count": null,
      "outputs": []
    },
    {
      "cell_type": "code",
      "source": [
        "csv_file_path = '/content/drive/My Drive/DB/DB49.csv'  # Replace this with the actual path to your CSV file\n",
        "\n",
        "# Load the dataset from the CSV file\n",
        "def load_dataset(csv_file):\n",
        "    with open(csv_file, 'r') as file:\n",
        "        reader = csv.reader(file)\n",
        "        header = next(reader)  # Read the header\n",
        "        data = [row for row in reader]  # Read the data\n",
        "    return header, data\n",
        "\n",
        "# Load the dataset\n",
        "header, data = load_dataset(csv_file_path)"
      ],
      "metadata": {
        "id": "SWtXMhKfdwwa"
      },
      "execution_count": 11,
      "outputs": []
    },
    {
      "cell_type": "code",
      "source": [],
      "metadata": {
        "id": "tbPnifOpgHcj"
      },
      "execution_count": null,
      "outputs": []
    },
    {
      "cell_type": "code",
      "source": [
        "# Define decision rules without threshold values\n",
        "def suggest_waste_management_methods(emission_values):\n",
        "    suggested_methods = []\n",
        "\n",
        "    for component, emissions in emission_values.items():\n",
        "        air_value = emissions['Air']\n",
        "        water_value = emissions['Water']\n",
        "        land_value = emissions['Land']\n",
        "        ghg_value = emissions['GHG']\n"
      ],
      "metadata": {
        "id": "_a_-IBuNeB2d"
      },
      "execution_count": 12,
      "outputs": []
    },
    {
      "cell_type": "code",
      "source": [
        "        # Rule 1: Avoid disposal methods involving burning if air emissions are highest\n",
        "        if air_value > water_value and air_value > land_value and air_value > ghg_value:\n",
        "            suggested_methods.append('Avoid burning/disposal methods increasing air emissions')\n",
        "        # Rule 2: Avoid landfill if land emissions are highest\n",
        "        elif land_value > air_value and land_value > water_value and land_value > ghg_value:\n",
        "            suggested_methods.append('Avoid landfill disposal methods')\n",
        "        # Rule 3: Use reuse methods if all emissions are below a certain limit\n",
        "        elif air_value < limit and water_value < limit and land_value < limit and ghg_value < limit:\n",
        "            suggested_methods.append('Use reuse methods')\n",
        "        else:\n",
        "            suggested_methods.append('Proceed with standard waste management methods')\n"
      ],
      "metadata": {
        "id": "hVZ3l__GeI_f"
      },
      "execution_count": null,
      "outputs": []
    },
    {
      "cell_type": "code",
      "source": [
        "# Load the dataset\n",
        "csv_file = 'ewaste_imp.csv'\n",
        "header, dataset = load_dataset(csv_file)"
      ],
      "metadata": {
        "id": "3pqiRIWKeQEY"
      },
      "execution_count": null,
      "outputs": []
    },
    {
      "cell_type": "code",
      "source": [
        "# Accept input component from the user\n",
        "input_component = input(\"Enter the component for which you want to suggest waste management methods: \")\n",
        "\n"
      ],
      "metadata": {
        "colab": {
          "base_uri": "https://localhost:8080/"
        },
        "id": "LDgYLIsieWGu",
        "outputId": "5bcd61e8-95b8-4cda-e89d-c33e84b5a0f2"
      },
      "execution_count": 15,
      "outputs": [
        {
          "name": "stdout",
          "output_type": "stream",
          "text": [
            "Enter the component for which you want to suggest waste management methods: Battery\n"
          ]
        }
      ]
    },
    {
      "cell_type": "code",
      "source": [
        "# Check if the input component is present in the dataset\n",
        "if input_component in dataset:"
      ],
      "metadata": {
        "id": "Gh3lD3pAeaNp"
      },
      "execution_count": null,
      "outputs": []
    },
    {
      "cell_type": "code",
      "source": [
        " # Extract emission values for the input component\n",
        "    emission_values = {input_component: dataset[input_component]}"
      ],
      "metadata": {
        "id": "ZXsi4McFem6v"
      },
      "execution_count": null,
      "outputs": []
    },
    {
      "cell_type": "code",
      "source": [
        "# Suggest waste management methods for the input component\n",
        "    suggested_methods = suggest_waste_management_methods(emission_values)\n",
        "    print(f\"Suggested waste management methods for {input_component}:\")\n",
        "    for method in suggested_methods:\n",
        "        print(method)\n",
        "else:\n",
        "    print(\"Component not found in the dataset.\")"
      ],
      "metadata": {
        "id": "3ZOQ7R_Le6No"
      },
      "execution_count": null,
      "outputs": []
    }
  ]
}